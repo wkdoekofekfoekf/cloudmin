{
  "nbformat": 4,
  "nbformat_minor": 0,
  "metadata": {
    "colab": {
      "name": "grabcut.ipynb",
      "private_outputs": true,
      "provenance": [],
      "collapsed_sections": []
    },
    "kernelspec": {
      "name": "python3",
      "display_name": "Python 3"
    },
    "language_info": {
      "name": "python"
    },
    "accelerator": "GPU"
  },
  "cells": [
    {
      "cell_type": "code",
      "metadata": {
        "id": "tFMjNWYtbsyq"
      },
      "source": [
        "cd MyDrive"
      ],
      "execution_count": null,
      "outputs": []
    },
    {
      "cell_type": "code",
      "metadata": {
        "id": "0O0j3Fq9otyd"
      },
      "source": [
        "%cd ..\n",
        "from google.colab import drive\n",
        "drive.mount('/content/gdrive')"
      ],
      "execution_count": null,
      "outputs": []
    },
    {
      "cell_type": "code",
      "metadata": {
        "id": "tAXfHWKq-qHE"
      },
      "source": [
        "import numpy as np\n",
        "import cv2 as cv\n",
        "from matplotlib import pyplot as plt\n",
        "img = cv.imread('images/ma.jpg')\n",
        "mask = np.zeros(img.shape[:2],np.uint8)\n",
        "bgdModel = np.zeros((1,65),np.float64)\n",
        "fgdModel = np.zeros((1,65),np.float64)\n",
        "rect = (50,50,450,290)\n",
        "cv.grabCut(img,mask,rect,bgdModel,fgdModel,5,cv.GC_INIT_WITH_RECT)\n",
        "mask2 = np.where((mask==2)|(mask==0),0,1).astype('uint8')\n",
        "img = img*mask2[:,:,np.newaxis]\n",
        "plt.imshow(img),plt.colorbar(),plt.show()"
      ],
      "execution_count": null,
      "outputs": []
    },
    {
      "cell_type": "code",
      "metadata": {
        "id": "2kN_RY1B3jNn"
      },
      "source": [
        "image_bgr = cv2.imread('images/mango.jpg')\n",
        "image_rgb = cv2.cvtColor(image_bgr, cv2.COLOR_BGR2RGB)\n"
      ],
      "execution_count": null,
      "outputs": []
    },
    {
      "cell_type": "code",
      "metadata": {
        "id": "hrrETlPKGW73"
      },
      "source": [
        "# 사각형 좌표: 시작점의 x,y  ,넢이, 너비\n",
        "rectangle = (0, 56, 256, 150)\n",
        "\n",
        "# 초기 마스크 생성\n",
        "mask = np.zeros(image_rgb.shape[:2], np.uint8)\n",
        "\n",
        "# grabCut에 사용할 임시 배열 생성\n",
        "bgdModel = np.zeros((1, 65), np.float64)\n",
        "fgdModel = np.zeros((1, 65), np.float64)\n",
        "\n",
        "# grabCut 실행\n",
        "cv2.grabCut(image_rgb, # 원본 이미지\n",
        "           mask,       # 마스크\n",
        "           rectangle,  # 사각형\n",
        "           bgdModel,   # 배경을 위한 임시 배열\n",
        "           fgdModel,   # 전경을 위한 임시 배열 \n",
        "           5,          # 반복 횟수\n",
        "           cv2.GC_INIT_WITH_RECT) # 사각형을 위한 초기화\n"
      ],
      "execution_count": null,
      "outputs": []
    },
    {
      "cell_type": "code",
      "metadata": {
        "id": "KlqOnl35RVt5"
      },
      "source": [
        "import numpy as np\n",
        "import cv2\n",
        "from matplotlib import pyplot as plt\n",
        "img = cv2.imread('images/mango.jpg')\n",
        "mask = np.zeros(img.shape[:2],np.uint8)\n",
        "bgdModel = np.zeros((1,65),np.float64)\n",
        "fgdModel = np.zeros((1,65),np.float64)\n",
        "rect = (50,50,450,290)\n",
        "cv2.grabCut(img,mask,rect,bgdModel,fgdModel,5,cv2.GC_INIT_WITH_RECT)\n",
        "mask2 = np.where((mask==2)|(mask==0),0,1).astype('uint8')\n",
        "img = img*mask2[:,:,np.newaxis]\n",
        "plt.imshow(img),plt.colorbar(),plt.show()"
      ],
      "execution_count": null,
      "outputs": []
    },
    {
      "cell_type": "code",
      "metadata": {
        "id": "wE1Yy011bNKf"
      },
      "source": [
        ""
      ],
      "execution_count": null,
      "outputs": []
    },
    {
      "cell_type": "code",
      "metadata": {
        "id": "05lW3-BCSnfe"
      },
      "source": [
        "import numpy as np\n",
        "import cv2\n",
        "import matplotlib.image as mpimg\n",
        "from matplotlib import pyplot as plt\n",
        "from sklearn.cluster import KMeans\n",
        "\n",
        "%matplotlib inline"
      ],
      "execution_count": null,
      "outputs": []
    },
    {
      "cell_type": "code",
      "metadata": {
        "id": "sSAybfvAT7Hp"
      },
      "source": [
        "print(img.shape)"
      ],
      "execution_count": null,
      "outputs": []
    },
    {
      "cell_type": "code",
      "metadata": {
        "id": "aa3AQZuyUBZG"
      },
      "source": [
        "image = cv2.cvtColor(img, cv2.COLOR_BGR2RGB)"
      ],
      "execution_count": null,
      "outputs": []
    },
    {
      "cell_type": "code",
      "metadata": {
        "id": "Wj6ormq_UD26"
      },
      "source": [
        "image = image.reshape((image.shape[0] * image.shape[1], 3)) # height, width 통합\n",
        "print(image.shape)"
      ],
      "execution_count": null,
      "outputs": []
    },
    {
      "cell_type": "code",
      "metadata": {
        "id": "JKPVv7WhUF1o"
      },
      "source": [
        "k = 5 # 예제는 5개로 나누겠습니다\n",
        "clt = KMeans(n_clusters = k)\n",
        "clt.fit(image)"
      ],
      "execution_count": null,
      "outputs": []
    },
    {
      "cell_type": "code",
      "metadata": {
        "id": "1_Zo1U5GUHPg"
      },
      "source": [
        "for center in clt.cluster_centers_:\n",
        "    print(center)"
      ],
      "execution_count": null,
      "outputs": []
    },
    {
      "cell_type": "code",
      "metadata": {
        "id": "CAFZ3O6mUJhU"
      },
      "source": [
        "def centroid_histogram(clt):\n",
        "    # grab the number of different clusters and create a histogram\n",
        "    # based on the number of pixels assigned to each cluster\n",
        "    numLabels = np.arange(0, len(np.unique(clt.labels_)) + 1)\n",
        "    (hist, _) = np.histogram(clt.labels_, bins=numLabels)\n",
        "\n",
        "    # normalize the histogram, such that it sums to one\n",
        "    hist = hist.astype(\"float\")\n",
        "    hist /= hist.sum()\n",
        "\n",
        "    # return the histogram\n",
        "    return hist\n",
        "\n",
        "\n",
        "hist = centroid_histogram(clt)\n",
        "  \n",
        "\n",
        "print(hist)"
      ],
      "execution_count": null,
      "outputs": []
    },
    {
      "cell_type": "code",
      "metadata": {
        "id": "ftU9SQokY-Dd"
      },
      "source": [
        "hist[0]"
      ],
      "execution_count": null,
      "outputs": []
    },
    {
      "cell_type": "code",
      "metadata": {
        "id": "HwuUcfh2UKti"
      },
      "source": [
        "a = hist[0] * 100\n"
      ],
      "execution_count": null,
      "outputs": []
    },
    {
      "cell_type": "code",
      "metadata": {
        "id": "WuvuNTJKUMEO"
      },
      "source": [
        "def plot_colors(hist, centroids):\n",
        "    # initialize the bar chart representing the relative frequency\n",
        "    # of each of the colors\n",
        "    bar = np.zeros((50, 300, 3), dtype=\"uint8\")\n",
        "    startX = 0\n",
        "\n",
        "    # loop over the percentage of each cluster and the color of\n",
        "    # each cluster\n",
        "    for (percent, color) in zip(hist, centroids):\n",
        "        # plot the relative percentage of each cluster\n",
        "        endX = startX + (percent * 300)\n",
        "        cv2.rectangle(bar, (int(startX), 0), (int(endX), 50),\n",
        "                      color.astype(\"uint8\").tolist(), -1)\n",
        "        startX = endX\n",
        "\n",
        "    # return the bar chart\n",
        "    return bar\n",
        "\n",
        "bar = plot_colors(hist, clt.cluster_centers_)\n",
        "\n",
        "\n",
        "# show our color bart\n",
        "plt.figure()\n",
        "plt.axis(\"off\")\n",
        "\n",
        "\n",
        "plt.imshow(bar)\n",
        "plt.show()"
      ],
      "execution_count": null,
      "outputs": []
    },
    {
      "cell_type": "code",
      "metadata": {
        "id": "6FxiGXq6wCc3"
      },
      "source": [
        "for center in clt.cluster_centers_:\n",
        "    print(center)"
      ],
      "execution_count": null,
      "outputs": []
    },
    {
      "cell_type": "code",
      "metadata": {
        "id": "SNbZ6uO7UN5X"
      },
      "source": [
        "print(\"색상 %\")\n",
        "for i in range(len(hist)):\n",
        "  print('%.0f' % (hist[i]*100))"
      ],
      "execution_count": null,
      "outputs": []
    },
    {
      "cell_type": "code",
      "metadata": {
        "id": "5zDtszbi0alB"
      },
      "source": [
        "clt.cluster_centers_"
      ],
      "execution_count": null,
      "outputs": []
    },
    {
      "cell_type": "code",
      "metadata": {
        "id": "opt0nFU1JiNA"
      },
      "source": [
        ""
      ],
      "execution_count": null,
      "outputs": []
    },
    {
      "cell_type": "code",
      "metadata": {
        "id": "mJREo1k60FNM"
      },
      "source": [
        "for center in clt.cluster_centers_: #rgb값 \n",
        "  print(center)"
      ],
      "execution_count": null,
      "outputs": []
    },
    {
      "cell_type": "code",
      "metadata": {
        "id": "KMVS_IZYHilu"
      },
      "source": [
        ""
      ],
      "execution_count": null,
      "outputs": []
    },
    {
      "cell_type": "code",
      "metadata": {
        "id": "QjMaroac006d"
      },
      "source": [
        "for center in clt.cluster_centers_:\n",
        "  if center[0]>100:\n",
        "    if center[1]>100:\n",
        "      if center[2]<100:\n",
        "        print(\"unripe\")\n",
        "\n",
        "\n",
        "  print(center[0])"
      ],
      "execution_count": null,
      "outputs": []
    },
    {
      "cell_type": "code",
      "metadata": {
        "id": "h0pox_V1TdqT"
      },
      "source": [
        "hist"
      ],
      "execution_count": null,
      "outputs": []
    },
    {
      "cell_type": "code",
      "metadata": {
        "id": "uOmZ-9SDNWAY"
      },
      "source": [
        "for i in range(len(hist)):\n",
        "  hist[i] = ('%.0f' % (hist[i])) \n",
        "  print(hist[i]) # 색상 %\n",
        "  \n",
        "\n"
      ],
      "execution_count": null,
      "outputs": []
    },
    {
      "cell_type": "code",
      "metadata": {
        "id": "f_2eZalWRDfx"
      },
      "source": [
        ""
      ],
      "execution_count": null,
      "outputs": []
    }
  ]
}