{
  "nbformat": 4,
  "nbformat_minor": 0,
  "metadata": {
    "colab": {
      "name": "image clustering.ipynb",
      "private_outputs": true,
      "provenance": [],
      "collapsed_sections": []
    },
    "kernelspec": {
      "name": "python3",
      "display_name": "Python 3"
    },
    "language_info": {
      "name": "python"
    }
  },
  "cells": [
    {
      "cell_type": "code",
      "metadata": {
        "id": "lsseXWInwVqF"
      },
      "source": [
        "import numpy as np\n",
        "import cv2\n",
        "from sklearn.cluster import KMeans\n",
        "import matplotlib.pyplot as plt"
      ],
      "execution_count": null,
      "outputs": []
    },
    {
      "cell_type": "code",
      "metadata": {
        "id": "0gOMaLjABk2B"
      },
      "source": [
        "from google.colab import drive\n",
        "drive.mount('/content/drive')\n"
      ],
      "execution_count": null,
      "outputs": []
    },
    {
      "cell_type": "code",
      "metadata": {
        "id": "Mh__j9wKQYEV"
      },
      "source": [
        "pwd"
      ],
      "execution_count": null,
      "outputs": []
    },
    {
      "cell_type": "code",
      "metadata": {
        "id": "YiILftQZ0nc4"
      },
      "source": [
        "image = cv2.imread(\"images/mango.jpg\")"
      ],
      "execution_count": null,
      "outputs": []
    },
    {
      "cell_type": "code",
      "metadata": {
        "id": "bdVrmJ4m00sa"
      },
      "source": [
        "print(image.shape)"
      ],
      "execution_count": null,
      "outputs": []
    },
    {
      "cell_type": "code",
      "metadata": {
        "id": "l5ZpVdvn08Os"
      },
      "source": [
        "image = cv2.cvtColor(image, cv2.COLOR_BGR2RGB)"
      ],
      "execution_count": null,
      "outputs": []
    },
    {
      "cell_type": "code",
      "metadata": {
        "id": "0KhKXu_C0-GS"
      },
      "source": [
        "image = image.reshape((image.shape[0] * image.shape[1], 3)) # height, width 통합\n",
        "print(image.shape)\n",
        "# (25024, 3)"
      ],
      "execution_count": null,
      "outputs": []
    },
    {
      "cell_type": "code",
      "metadata": {
        "id": "QLckVse61A37"
      },
      "source": [
        "k = 5 # 예제는 5개로 나누겠습니다\n",
        "clt = KMeans(n_clusters = k)\n",
        "clt.fit(image)"
      ],
      "execution_count": null,
      "outputs": []
    },
    {
      "cell_type": "code",
      "metadata": {
        "id": "g5C7ZHUE1Bqe"
      },
      "source": [
        "for center in clt.cluster_centers_:\n",
        "    print(center)"
      ],
      "execution_count": null,
      "outputs": []
    },
    {
      "cell_type": "code",
      "metadata": {
        "id": "-lAkhN8J1EYl"
      },
      "source": [
        "def centroid_histogram(clt):\n",
        "    # grab the number of different clusters and create a histogram\n",
        "    # based on the number of pixels assigned to each cluster\n",
        "    numLabels = np.arange(0, len(np.unique(clt.labels_)) + 1)\n",
        "    (hist, _) = np.histogram(clt.labels_, bins=numLabels)\n",
        "\n",
        "    # normalize the histogram, such that it sums to one\n",
        "    hist = hist.astype(\"float\")\n",
        "    hist /= hist.sum()\n",
        "\n",
        "    # return the histogram\n",
        "    return hist\n",
        "\n",
        "\n",
        "hist = centroid_histogram(clt)\n",
        "print(hist)\n",
        "#[ 0.68881873  0.09307065  0.14797794  0.04675512  0.02337756]"
      ],
      "execution_count": null,
      "outputs": []
    },
    {
      "cell_type": "code",
      "metadata": {
        "id": "oHIV0_6dPvfo"
      },
      "source": [
        "np.delete(hist,0)"
      ],
      "execution_count": null,
      "outputs": []
    },
    {
      "cell_type": "code",
      "metadata": {
        "id": "pM61eI558v24"
      },
      "source": [
        "def plot_colors(hist, centroids):\n",
        "    # initialize the bar chart representing the relative frequency\n",
        "    # of each of the colors\n",
        "    bar = np.zeros((50, 300, 3), dtype=\"uint8\")\n",
        "    startX = 0\n",
        "\n",
        "    # loop over the percentage of each cluster and the color of\n",
        "    # each cluster\n",
        "    for (percent, color) in zip(hist, centroids):\n",
        "        # plot the relative percentage of each cluster\n",
        "        endX = startX + (percent * 300)\n",
        "        cv2.rectangle(bar, (int(startX), 0), (int(endX), 50),\n",
        "                      color.astype(\"uint8\").tolist(), -1)\n",
        "        startX = endX\n",
        "\n",
        "    # return the bar chart\n",
        "    return bar\n",
        "\n",
        "bar = plot_colors(hist, clt.cluster_centers_)\n",
        "\n",
        "\n",
        "# show our color bart\n",
        "plt.figure()\n",
        "plt.axis(\"off\")\n",
        "plt.imshow(bar)\n",
        "plt.show()\n"
      ],
      "execution_count": null,
      "outputs": []
    },
    {
      "cell_type": "code",
      "metadata": {
        "id": "86ZJgHBvQsgP"
      },
      "source": [
        "hist # rpg색상별 퍼센트값"
      ],
      "execution_count": null,
      "outputs": []
    },
    {
      "cell_type": "code",
      "metadata": {
        "id": "AkQBO226Q5Dg"
      },
      "source": [
        "for center in clt.cluster_centers_:\n",
        "    print(center)  #색상값"
      ],
      "execution_count": null,
      "outputs": []
    },
    {
      "cell_type": "markdown",
      "metadata": {
        "id": "ehHthxVPEz7p"
      },
      "source": [
        ""
      ]
    }
  ]
}