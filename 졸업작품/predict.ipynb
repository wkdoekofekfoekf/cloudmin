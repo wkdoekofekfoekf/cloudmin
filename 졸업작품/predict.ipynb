{
  "nbformat": 4,
  "nbformat_minor": 0,
  "metadata": {
    "colab": {
      "name": "predict.ipynb",
      "private_outputs": true,
      "provenance": [],
      "collapsed_sections": []
    },
    "kernelspec": {
      "name": "python3",
      "display_name": "Python 3"
    },
    "language_info": {
      "name": "python"
    },
    "accelerator": "GPU"
  },
  "cells": [
    {
      "cell_type": "code",
      "metadata": {
        "id": "Bl-YIW8yFLpy"
      },
      "source": [
        "import cv2\n",
        "import numpy as np\n",
        "from skimage import io\n",
        "\n"
      ],
      "execution_count": null,
      "outputs": []
    },
    {
      "cell_type": "code",
      "metadata": {
        "id": "eGtIjNtlXBdf"
      },
      "source": [
        "img1 = cv2.imread(\"mamami.png\")"
      ],
      "execution_count": null,
      "outputs": []
    },
    {
      "cell_type": "code",
      "metadata": {
        "id": "G-SRtWhdFfti"
      },
      "source": [
        "average = img.mean(axis=0).mean(axis=0)"
      ],
      "execution_count": null,
      "outputs": []
    },
    {
      "cell_type": "code",
      "metadata": {
        "id": "ZCs8dtOJFu20"
      },
      "source": [
        "pixels = np.float32(img.reshape(-1, 3))\n",
        "\n",
        "n_colors = 5\n",
        "criteria = (cv2.TERM_CRITERIA_EPS + cv2.TERM_CRITERIA_MAX_ITER, 200, .1)\n",
        "flags = cv2.KMEANS_RANDOM_CENTERS\n",
        "\n",
        "_, labels, palette = cv2.kmeans(pixels, n_colors, None, criteria, 10, flags)\n",
        "_, counts = np.unique(labels, return_counts=True)"
      ],
      "execution_count": null,
      "outputs": []
    },
    {
      "cell_type": "code",
      "metadata": {
        "id": "RK48DUA2FPAj"
      },
      "source": [
        "import matplotlib.pyplot as plt\n",
        "\n",
        "avg_patch = np.ones(shape=img.shape, dtype=np.uint8)*np.uint8(average)\n",
        "\n",
        "indices = np.argsort(counts)[::-1]   \n",
        "freqs = np.cumsum(np.hstack([[0], counts[indices]/float(counts.sum())]))\n",
        "rows = np.int_(img.shape[0]*freqs)\n",
        "\n",
        "dom_patch = np.zeros(shape=img.shape, dtype=np.uint8)\n",
        "for i in range(len(rows) - 1):\n",
        "    dom_patch[rows[i]:rows[i + 1], :, :] += np.uint8(palette[indices[i]])\n",
        "    \n",
        "fig, (ax0, ax1) = plt.subplots(1, 2, figsize=(12,6))\n",
        "ax0.imshow(avg_patch)\n",
        "ax0.set_title('Average color')\n",
        "ax0.axis('off')\n",
        "ax1.imshow(dom_patch)\n",
        "ax1.set_title('Dominant colors')\n",
        "ax1.axis('off')\n",
        "plt.show(fig)"
      ],
      "execution_count": null,
      "outputs": []
    },
    {
      "cell_type": "code",
      "metadata": {
        "id": "bkf9Fi5fWlo5"
      },
      "source": [
        "average"
      ],
      "execution_count": null,
      "outputs": []
    }
  ]
}